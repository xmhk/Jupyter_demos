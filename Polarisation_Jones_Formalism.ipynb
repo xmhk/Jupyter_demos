{
 "cells": [
  {
   "cell_type": "code",
   "execution_count": null,
   "metadata": {},
   "outputs": [],
   "source": [
    "import numpy as np\n",
    "import ipywidgets as widgets\n",
    "from scipy.optimize import minimize\n",
    "\n",
    "from bokeh.io import push_notebook, show, output_notebook\n",
    "from bokeh.plotting import figure\n",
    "from bokeh.layouts import gridplot\n",
    "from bokeh.models import Arrow,OpenHead, NormalHead, VeeHead\n",
    "output_notebook()\n",
    "\n"
   ]
  },
  {
   "cell_type": "markdown",
   "metadata": {},
   "source": [
    "## scope"
   ]
  },
  {
   "cell_type": "markdown",
   "metadata": {},
   "source": [
    "This notebook demonstrates some simple calculations about polarization optics.\n",
    "Polarisation states and optical elements are represented in [Jones notation](https://en.wikipedia.org/wiki/Jones_calculus)"
   ]
  },
  {
   "cell_type": "markdown",
   "metadata": {},
   "source": [
    "## define some polarization states in Jones notation"
   ]
  },
  {
   "cell_type": "code",
   "execution_count": null,
   "metadata": {},
   "outputs": [],
   "source": [
    "class pstates():\n",
    "    def __init__(self):\n",
    "        \"\"\"sime common polarization states\"\"\"\n",
    "        self.H = np.array([1,0]) \n",
    "        self.V = np.array([0,1])\n",
    "        self.Lin45 = np.array([1,1]) / np.sqrt(2)\n",
    "        self.L = np.array([1, 1.0j]) / np.sqrt(2)\n",
    "        self.R = np.array([1, -1.0j]) / np.sqrt(2)\n",
    "    def randEll(self):\n",
    "        \"\"\"return random elliptical state\"\"\"\n",
    "        p1 = (np.random.rand(4)-0.5) * 2\n",
    "        sr = np.array([p1[0]+1.0j*p1[1], p1[2]+1.0j*p1[3]])\n",
    "        sr = sr / np.sqrt(np.sum(np.abs(sr)**2))\n",
    "        return sr\n",
    "\n",
    "PS = pstates()"
   ]
  },
  {
   "cell_type": "markdown",
   "metadata": {},
   "source": [
    "## define some optical elements"
   ]
  },
  {
   "cell_type": "code",
   "execution_count": null,
   "metadata": {},
   "outputs": [],
   "source": [
    "class pelements():\n",
    "    def __init__(self):\n",
    "        self.hwp0 = [[-1.0j,0],[0,1.0j]]   # half-wave-plate, zero orientation\n",
    "        self.qwp0 = 1./np.sqrt(2) * np.array([[1-1.0j,0],[0,1+1.0j]]) # quarter-wave-plate, zero orientation\n",
    "        self.pol0 = np.array([[1,0],[0,0]]) # # linear polarizer, zero orientation\n",
    "        \n",
    "    def rotation_matrix(self, angle):\n",
    "        \"\"\"Rotation matrix to calculate matrix of some rotated element\"\"\"\n",
    "        return np.array([[np.cos(angle),-np.sin(angle)],[np.sin(angle), np.cos(angle)]]),\\\n",
    "               np.array([[np.cos(-angle),-np.sin(-angle)],[np.sin(-angle), np.cos(-angle)]])\n",
    "    \n",
    "    def hwp(self, angle):\n",
    "        \"\"\"Jones matrix: Half-wave-plate, rotated by angle\"\"\"\n",
    "        R1, R2 = self.rotation_matrix(angle)\n",
    "        return np.dot( R1 , np.dot (self.hwp0, R2))\n",
    "    \n",
    "    def qwp(self, angle):\n",
    "        \"\"\"Jones matrix: Quarter-wave-plate, rotated by angle\"\"\"\n",
    "        R1, R2 = self.rotation_matrix(angle)\n",
    "        return np.dot( R1 , np.dot (self.qwp0, R2))\n",
    "    \n",
    "    def pol(self, angle):\n",
    "        \"\"\"Jones matrix: Linear polarizer, rotated by angle\"\"\"\n",
    "        R1, R2 = self.rotation_matrix(angle)\n",
    "        return np.dot( R1 , np.dot (self.pol0, R2))    \n",
    "    "
   ]
  },
  {
   "cell_type": "markdown",
   "metadata": {},
   "source": [
    "## some helper functions for plotting"
   ]
  },
  {
   "cell_type": "code",
   "execution_count": null,
   "metadata": {},
   "outputs": [],
   "source": [
    "def statestr(v):\n",
    "    return \"[%.2f + %.2fi,  %.2f + %.2fi]\"%(np.real(v[0]), np.imag(v[0]),np.real(v[1]), np.imag(v[1]))\n",
    "\n",
    "def samplexy(vec, tmin=0, tmax = 1.9 * np.pi, pts = 24):\n",
    "    \"\"\"return Ex, Ey samples for a given input state\"\"\"\n",
    "    t = np.linspace(tmin, tmax, pts)\n",
    "    ex = np.real(vec[0]*np.exp(1.0j * t))\n",
    "    ey = np.real(vec[1]*np.exp(1.0j * t))\n",
    "    return ex, ey, t\n",
    "\n",
    "def bk_state_plot(s, title=\"\"):\n",
    "    \"\"\"plot Ey against Ex for a given input state s\"\"\"\n",
    "    ex, ey, t = samplexy(s)\n",
    "    s = figure(width=200, height=200, x_range=[-1.1,1.1], y_range=[-1.1,1.1],\n",
    "              title=title, x_axis_label='Ex', y_axis_label=\"Ey\")\n",
    "    p = s.line(list(ex), list(ey),)# size=10, color='firebrick', alpha=0.4)\n",
    "    p0 = s.circle(ex[0:1], ey[0:1], size=5, color='blue')    \n",
    "    return s, p, p0\n",
    "\n",
    "def bk_xy_plot(s, title=\"\"):\n",
    "    \"\"\"plot Ex(t) and Ey(t) for a given input state\"\"\"\n",
    "    ex, ey, t = samplexy(s, tmin=0, tmax=4*np.pi, pts=100)\n",
    "    s = figure(width=200, height=200, x_range=[0, 2], y_range=[-1,1],\n",
    "          title=title, x_axis_label='t*2pi f', y_axis_label=\"E\")\n",
    "    e1 = s.line(t/2/np.pi, ex,  legend=\"Ex\", line_width=2)\n",
    "    e2 = s.line(t/2/np.pi, ey, legend=\"Ey\", line_width=2,line_color=\"red\")  \n",
    "    s.legend.label_text_font_size = '8pt'\n",
    "    s.legend.background_fill_alpha=0.9\n",
    "    s.legend.padding=1\n",
    "    return s, e1, e2\n",
    "\n",
    "def bk_update(dd, dd0, dx, dy, state):\n",
    "    xx, yy, tmp = samplexy(state)\n",
    "    dd.data_source.data={'x':xx, 'y':yy}\n",
    "    dd0.data_source.data ={'x':xx[0:1], 'y':yy[0:1]}\n",
    "    e1, e2, t = samplexy(state, tmin=0, tmax=4*np.pi, pts=100)\n",
    "    dx.data_source.data={'x':t/2/np.pi, 'y':e1}\n",
    "    dy.data_source.data ={'x':t/2/np.pi, 'y':e2}  \n",
    "    \n",
    "   "
   ]
  },
  {
   "cell_type": "markdown",
   "metadata": {},
   "source": [
    "# widget: try the effect of Polarizers, HWP and QWP on different input states"
   ]
  },
  {
   "cell_type": "code",
   "execution_count": null,
   "metadata": {},
   "outputs": [],
   "source": [
    "RandEllipState = PS.randEll()\n",
    "\n",
    "def elem_action(key_in, element, angle):\n",
    "    angle = angle/180 * np.pi\n",
    "    PS = pstates()\n",
    "    PE = pelements()\n",
    "    instates = {'H':PS.H, 'V':PS.V, 'lin45':PS.Lin45, 'RCirc':PS.R, 'LCirc':PS.L, 'RandEllip':RandEllipState}\n",
    "    elements = {'pol':PE.pol, 'qwp':PE.qwp, 'hwp':PE.hwp}\n",
    "    instate = instates[key_in]\n",
    "    outstate = np.dot( elements[element](angle) , instate)\n",
    "    bk_update(d1,d10,ex1, ey1, instate)\n",
    "    bk_update(d2,d20,ex2, ey2,  outstate)\n",
    "    t1.value = \"In: %s\\nOut %s\"%(statestr(instate), statestr(outstate))\n",
    "    push_notebook()\n",
    "\n",
    "t1 = widgets.Textarea(value=\"In: %s\\nOut %s\"%(statestr(PS.H), statestr(PS.H)))\n",
    "display(t1)    \n",
    "\n",
    "s1, d1, d10 = bk_state_plot(PS.H, title='in')\n",
    "s2, d2, d20 = bk_state_plot(PS.H, title='out')\n",
    "s1b, ex1, ey1 = bk_xy_plot(PS.H, title='in')\n",
    "s2b, ex2, ey2 = bk_xy_plot(PS.H, title='out')\n",
    "p = gridplot([[s1, s2],[s1b, s2b]], toolbar_location=None)\n",
    "show(p, notebook_handle=True)\n",
    "\n",
    "\n",
    "widgets.interact(elem_action, \n",
    "                 key_in=widgets.Dropdown(options=['H', 'V', 'lin45', 'RCirc', 'LCirc','RandEllip'],\n",
    "                                        description='Input State'), \n",
    "                 element=widgets.Dropdown(options=['pol','hwp','qwp'],\n",
    "                                         description='Element'),\n",
    "                 angle = widgets.IntSlider(min=-180,max=180, description='Angle (deg)'), step=5)\n"
   ]
  },
  {
   "cell_type": "markdown",
   "metadata": {},
   "source": [
    "## Polarization Transform: Quarter-Half-Quarter waveplate setup\n",
    "\n",
    "In the Jones formalism, every possible state can be represented as an ellipse in the Ex-Ey plane. This includes the linear polarized state (degenerated ellipse) and circular polarization. Every of these states can be transformed into every other by passing through a setup of Quarter-Half-Quarter waveplates with suitable rotations."
   ]
  },
  {
   "cell_type": "code",
   "execution_count": null,
   "metadata": {},
   "outputs": [],
   "source": [
    "PE = pelements()\n",
    "PS = pstates()\n",
    "    \n",
    "def qhq(a1,a2,a3,instate):\n",
    "    \"\"\"Apply action of quarter - half - quater waveplate (with angles a1, a2, a3) on instate\"\"\"\n",
    "    return np.dot(PE.qwp(a3), np.dot(PE.hwp(a2), np.dot(PE.qwp(a1), instate)))\n",
    "\n",
    "def elem_action2(key_in, a1, a2, a3):\n",
    "    a1t = a1/180 * np.pi; a2t = a2/180 * np.pi; a3t = a3/180 * np.pi\n",
    "    instates = {'H':PS.H, 'V':PS.V, 'lin45':PS.Lin45, 'RCirc':PS.R, 'LCirc':PS.L, 'RandEllip':RandEllipState}\n",
    "    instate = instates[key_in]\n",
    "    outstate = qhq(a1t, a2t, a3t, instate)\n",
    "    bk_update(d3, d30, ex3, ey3,instate)\n",
    "    bk_update(d4, d40, ex4, ey4, outstate)\n",
    "    t2.value = \"In: %s\\nOut %s\"%(statestr(instate), statestr(outstate))\n",
    "    push_notebook()\n",
    "\n",
    "t2 = widgets.Textarea(value=\"In: %s\\nOut %s\"%(statestr(PS.H), statestr(PS.H)))\n",
    "display(t2)    \n",
    "s3, d3, d30 = bk_state_plot(PS.H, title='In')\n",
    "s4, d4, d40 = bk_state_plot(PS.H, title='Out')\n",
    "s3b, ex3, ey3 = bk_xy_plot(PS.H, title='in')\n",
    "s4b, ex4, ey4 = bk_xy_plot(PS.H, title='out')\n",
    "p2 = gridplot([[s3, s4],[s3b,s4b]], toolbar_location=None)\n",
    "show(p2, notebook_handle=True)\n",
    "\n",
    "widgets.interact(elem_action2, \n",
    "                 key_in=widgets.Dropdown(options=['H', 'V', 'lin45', 'RCirc', 'LCirc','RandEllip'],\n",
    "                                        description='Input State'),\n",
    "                 a1 = widgets.IntSlider(min=-180,max=180, description='Angle 1 (deg)', step=5),\n",
    "                 a2 = widgets.IntSlider(min=-180,max=180, description='Angle 2 (deg)', step=5),\n",
    "                 a3 = widgets.IntSlider(min=-180,max=180, description='Angle 3 (deg)', step=5))"
   ]
  },
  {
   "cell_type": "markdown",
   "metadata": {},
   "source": [
    "## search for 3 angles automatically\n",
    "\n",
    "demonstrate the every-to-every transform by searching for the suitable angles using scipy.optimize"
   ]
  },
  {
   "cell_type": "code",
   "execution_count": null,
   "metadata": {},
   "outputs": [],
   "source": [
    "def funmini(w, ein, eout):\n",
    "    \"\"\"function to minimize\"\"\"\n",
    "    eoutnew = qhq(w[0] ,w[1], w[2], ein)\n",
    "    return np.sum( np.abs(eoutnew[0]-eout[0])**2 + np.abs(eoutnew[1]-eout[1])**2 )\n",
    "\n",
    "def findrotations(ein, eout, maxiter=10):\n",
    "    \"\"\"find rotation angles of the Q-H-Q setup to transform ein into eout\"\"\"\n",
    "    #x0 = np.array([0,0,0])  gets stuck at local minimum\n",
    "    x1 = np.array([0,.1,0])\n",
    "    res = minimize(funmini, x1, args=(ein,eout))\n",
    "    #print(funmini(res['x'], ein, eout))\n",
    "    if not res['success']:\n",
    "        print(\"no success!\")\n",
    "        return False, np.array([0,0,0])\n",
    "    else:\n",
    "        x = res['x']\n",
    "        return True, x\n",
    "    \n",
    "ein = PS.V#PS.randEll()\n",
    "eout = PS.R\n",
    "succ, angles = findrotations(ein, eout)\n",
    "s5, d5, d50 = bk_state_plot(ein, title='In')\n",
    "s6, d6, d60 = bk_state_plot(eout, title='Target')\n",
    "s7, d7, d70 = bk_state_plot(qhq(angles[0], angles[1], angles[2], ein), title='Out (%.0f, %.0f, %.0f)'%(\n",
    "    angles[0]*180/np.pi,angles[1]*180/np.pi,angles[2]*180/np.pi))\n",
    "p3 = gridplot([[s5, s6, s7]], toolbar_location=None)\n",
    "show(p3)"
   ]
  },
  {
   "cell_type": "markdown",
   "metadata": {},
   "source": [
    "## check conversion of various input states into output states"
   ]
  },
  {
   "cell_type": "code",
   "execution_count": null,
   "metadata": {},
   "outputs": [],
   "source": [
    "def autofindplot(ein, eout):\n",
    "    succ, angles = findrotations(ein, eout)\n",
    "    s5, d5, d50 = bk_state_plot(ein, title='In')\n",
    "    s6, d6, d60 = bk_state_plot(eout, title='Target')\n",
    "    s7, d7, d70 = bk_state_plot(qhq(angles[0], angles[1], angles[2], ein), title='Out (%.0f, %.0f, %.0f)'%(\n",
    "        angles[0]*180/np.pi,angles[1]*180/np.pi,angles[2]*180/np.pi))\n",
    "    p3 = gridplot([[s5, s6, s7]], toolbar_location=None)\n",
    "    show(p3)"
   ]
  },
  {
   "cell_type": "code",
   "execution_count": null,
   "metadata": {
    "scrolled": false
   },
   "outputs": [],
   "source": [
    "instates = {'H':PS.H, 'V':PS.V, 'lin45':PS.Lin45, 'RCirc':PS.R, 'LCirc':PS.L, 'RandEllip':RandEllipState}\n",
    "for k1 in instates.keys():\n",
    "    for k2 in instates.keys():\n",
    "        autofindplot(instates[k1], instates[k2])"
   ]
  }
 ],
 "metadata": {
  "kernelspec": {
   "display_name": "Python 3",
   "language": "python",
   "name": "python3"
  },
  "language_info": {
   "codemirror_mode": {
    "name": "ipython",
    "version": 3
   },
   "file_extension": ".py",
   "mimetype": "text/x-python",
   "name": "python",
   "nbconvert_exporter": "python",
   "pygments_lexer": "ipython3",
   "version": "3.7.1"
  }
 },
 "nbformat": 4,
 "nbformat_minor": 2
}
